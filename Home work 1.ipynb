{
  "nbformat": 4,
  "nbformat_minor": 0,
  "metadata": {
    "colab": {
      "name": "Copy of Untitled6.ipynb",
      "version": "0.3.2",
      "provenance": [],
      "collapsed_sections": [],
      "include_colab_link": true
    },
    "kernelspec": {
      "name": "python3",
      "display_name": "Python 3"
    }
  },
  "cells": [
    {
      "cell_type": "markdown",
      "metadata": {
        "id": "view-in-github",
        "colab_type": "text"
      },
      "source": [
        "<a href=\"https://colab.research.google.com/github/WAHEEBTASHAN/probability-example-1/blob/master/Home%20work%201.ipynb\" target=\"_parent\"><img src=\"https://colab.research.google.com/assets/colab-badge.svg\" alt=\"Open In Colab\"/></a>"
      ]
    },
    {
      "metadata": {
        "id": "Vvw4tmGIme7_",
        "colab_type": "text"
      },
      "cell_type": "markdown",
      "source": [
        "##Pigeonhole principle\n",
        "Pigeonhole principle is commonly used in mathematics. pigeonhole principle states that if  n items are put into m containers, with  n>m, then at least one container must contain more than one item.I am going to prove this principle by applying one of the example and solve it by python program using conditional statements The example to prove that more than one student can have the same alphabets if the number of student (n) is more than the number of alphabets**(n>m)**\n",
        " ![alt text](https://github.com/WAHEEBTASHAN/probability-example-1/raw/master/image1.jpg)\n",
        "## Example:\n",
        " Assume that we have n number of students inside the class , according to Pigeonhole principle,  prove that more than one student\n",
        " have their  names started with the same alphabets?\n",
        "\n",
        "## Solution\n",
        " There are n number of students(Pigeon) inside the class and there are 26 english alphabets(m) (pigeonholes).\n",
        " By applying Pigeonhole principle\n",
        "1- If the number of students is less than or equal the number of alphabets( n<=m ),Pigeonhole principle can not be applied.\n",
        "2- If the number of students is greater than the number of alphabets( n>m ),Pigeonhole principle can be applied. However\n",
        "more than one student will have their names starting with the same alphabets.\n"
      ]
    },
    {
      "metadata": {
        "id": "HdUB4uEKp08d",
        "colab_type": "code",
        "colab": {}
      },
      "cell_type": "code",
      "source": [
        "print(\"Enter number of students inside the class\")\n",
        "students = int(input())\n",
        "if students < 0:\n",
        "    print(\"Wrong Entry: Try again\")\n",
        "    exit(1)\n",
        "print(\"The Number of english alphabets is 26\")\n",
        "if students < 26:\n",
        "    print(\"Pigeon rule does not apply:n<26\")\n",
        "elif students == 26:\n",
        "    print(\"Pigeon rule does not apply\")\n",
        "    print(\"stuents  may or may not have same alphabets\")\n",
        "elif students > 26:\n",
        "    print(\"Pigeon rule applies:n>m\")\n",
        "    result1 = students % 26\n",
        "    result = float(students // 26)\n",
        "    if result1 == 0:\n",
        "        print(\" Minimum number of students having the same alphbets:\\n\", result)\n",
        "    else:\n",
        "        print(\"Minimum number of people having the same alphbets:\\n \", result + 1)\n",
        "else:\n",
        "    print(\"Invalid Input: Please select again\")"
      ],
      "execution_count": 0,
      "outputs": []
    }
  ]
}